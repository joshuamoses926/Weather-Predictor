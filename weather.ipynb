{
 "cells": [
  {
   "cell_type": "code",
   "execution_count": null,
   "id": "0cf5e8a5",
   "metadata": {},
   "outputs": [],
   "source": [
    "import pandas as pd"
   ]
  },
  {
   "cell_type": "code",
   "execution_count": null,
   "id": "8fd798db",
   "metadata": {},
   "outputs": [],
   "source": [
    "weather = pd.read_csv(\"local_weather.csv\", index_col= \"DATE\")"
   ]
  },
  {
   "cell_type": "code",
   "execution_count": null,
   "id": "48b7ba9f",
   "metadata": {},
   "outputs": [],
   "source": [
    "weather"
   ]
  },
  {
   "cell_type": "code",
   "execution_count": null,
   "id": "b25e5a34",
   "metadata": {},
   "outputs": [],
   "source": [
    "weather.apply(pd.isnull).sum()/weather.shape[0]"
   ]
  },
  {
   "cell_type": "code",
   "execution_count": null,
   "id": "642c1079",
   "metadata": {},
   "outputs": [],
   "source": [
    "core_weather = weather[[\"PRCP\",\"SNOW\",\"SNWD\",\"TMAX\",\"TMIN\"]].copy()"
   ]
  },
  {
   "cell_type": "code",
   "execution_count": null,
   "id": "58fea98e",
   "metadata": {},
   "outputs": [],
   "source": [
    "core_weather.columns = [\"precip\",\"snow\",\"snow_depth\",\"temp_max\",\"temp_min\"]"
   ]
  },
  {
   "cell_type": "code",
   "execution_count": null,
   "id": "0857e1d2",
   "metadata": {},
   "outputs": [],
   "source": [
    "core_weather\n",
    "print(\"core_weather on line 13\",core_weather)"
   ]
  },
  {
   "cell_type": "code",
   "execution_count": null,
   "id": "e4b9ae62",
   "metadata": {},
   "outputs": [],
   "source": [
    "core_weather.apply(pd.isnull).sum()/weather.shape[0]"
   ]
  },
  {
   "cell_type": "code",
   "execution_count": null,
   "id": "7d9035dd",
   "metadata": {},
   "outputs": [],
   "source": [
    "core_weather[\"snow\"].value_counts()"
   ]
  },
  {
   "cell_type": "code",
   "execution_count": null,
   "id": "a4f61d34",
   "metadata": {},
   "outputs": [],
   "source": [
    "del core_weather[\"snow\"]"
   ]
  },
  {
   "cell_type": "code",
   "execution_count": null,
   "id": "2fc1e852",
   "metadata": {},
   "outputs": [],
   "source": [
    "core_weather[\"snow_depth\"].value_counts()"
   ]
  },
  {
   "cell_type": "code",
   "execution_count": null,
   "id": "d55a9394",
   "metadata": {},
   "outputs": [],
   "source": [
    "del core_weather[\"snow_depth\"]"
   ]
  },
  {
   "cell_type": "code",
   "execution_count": null,
   "id": "a3cfae49",
   "metadata": {},
   "outputs": [],
   "source": [
    "core_weather[\"precip\"] = core_weather[\"precip\"].fillna(0)"
   ]
  },
  {
   "cell_type": "code",
   "execution_count": null,
   "id": "501a7d99",
   "metadata": {},
   "outputs": [],
   "source": [
    "core_weather = core_weather.fillna(method=\"ffill\")"
   ]
  },
  {
   "cell_type": "code",
   "execution_count": null,
   "id": "b025c001",
   "metadata": {},
   "outputs": [],
   "source": [
    "core_weather.apply(pd.isnull).sum()/core_weather.shape[0]"
   ]
  },
  {
   "cell_type": "code",
   "execution_count": null,
   "id": "4f833abe",
   "metadata": {},
   "outputs": [],
   "source": [
    "core_weather.dtypes"
   ]
  },
  {
   "cell_type": "code",
   "execution_count": null,
   "id": "fb104321",
   "metadata": {},
   "outputs": [],
   "source": [
    "core_weather.index"
   ]
  },
  {
   "cell_type": "code",
   "execution_count": null,
   "id": "3b60d4bc",
   "metadata": {},
   "outputs": [],
   "source": [
    "core_weather.index = pd.to_datetime(core_weather.index)"
   ]
  },
  {
   "cell_type": "code",
   "execution_count": null,
   "id": "4b1687e2",
   "metadata": {},
   "outputs": [],
   "source": [
    "core_weather.index"
   ]
  },
  {
   "cell_type": "code",
   "execution_count": null,
   "id": "44d59efa",
   "metadata": {},
   "outputs": [],
   "source": [
    "core_weather.index.year"
   ]
  },
  {
   "cell_type": "code",
   "execution_count": null,
   "id": "33d7729b",
   "metadata": {},
   "outputs": [],
   "source": [
    "core_weather.apply(lambda x:(x==9999).sum())"
   ]
  },
  {
   "cell_type": "code",
   "execution_count": null,
   "id": "757c6ace",
   "metadata": {},
   "outputs": [],
   "source": [
    "core_weather[[\"temp_max\", \"temp_min\"]].plot()"
   ]
  },
  {
   "cell_type": "code",
   "execution_count": null,
   "id": "0ebdd63f",
   "metadata": {},
   "outputs": [],
   "source": [
    "core_weather.index.year.value_counts().sort_index()"
   ]
  },
  {
   "cell_type": "code",
   "execution_count": null,
   "id": "74e92a17",
   "metadata": {},
   "outputs": [],
   "source": [
    "core_weather[\"precip\"].plot()"
   ]
  },
  {
   "cell_type": "code",
   "execution_count": null,
   "id": "90136fc5",
   "metadata": {},
   "outputs": [],
   "source": [
    "core_weather.groupby(core_weather.index.year).sum()"
   ]
  },
  {
   "cell_type": "code",
   "execution_count": null,
   "id": "c6e33e74",
   "metadata": {},
   "outputs": [],
   "source": [
    "core_weather[\"target\"] = core_weather.shift(-1)[\"temp_max\"]"
   ]
  },
  {
   "cell_type": "code",
   "execution_count": null,
   "id": "a85dcc97",
   "metadata": {},
   "outputs": [],
   "source": [
    "core_weather\n",
    "print(\"core_weather on line 27\",core_weather)"
   ]
  },
  {
   "cell_type": "code",
   "execution_count": null,
   "id": "e9581a06",
   "metadata": {},
   "outputs": [],
   "source": [
    "core_weather = core_weather.iloc[:-1,:].copy()"
   ]
  },
  {
   "cell_type": "code",
   "execution_count": null,
   "id": "79d48bfb",
   "metadata": {},
   "outputs": [],
   "source": [
    "core_weather\n"
   ]
  },
  {
   "cell_type": "code",
   "execution_count": null,
   "id": "f33a0a7d",
   "metadata": {},
   "outputs": [],
   "source": [
    "from sklearn.linear_model import Ridge\n",
    "\n",
    "reg = Ridge(alpha=.1)"
   ]
  },
  {
   "cell_type": "code",
   "execution_count": null,
   "id": "051eafed",
   "metadata": {},
   "outputs": [],
   "source": [
    "predictors = [\"precip\", \"temp_max\", \"temp_min\"]"
   ]
  },
  {
   "cell_type": "code",
   "execution_count": null,
   "id": "ba18d7a2",
   "metadata": {},
   "outputs": [],
   "source": [
    "train = core_weather.loc[:\"2022-12-31\"]"
   ]
  },
  {
   "cell_type": "code",
   "execution_count": null,
   "id": "a238f5b4",
   "metadata": {},
   "outputs": [],
   "source": [
    "test = core_weather.loc[\"2023-01-01\":]"
   ]
  },
  {
   "cell_type": "code",
   "execution_count": null,
   "id": "14416148",
   "metadata": {},
   "outputs": [],
   "source": [
    "reg.fit(train[predictors], train[\"target\"])"
   ]
  },
  {
   "cell_type": "code",
   "execution_count": null,
   "id": "2851c628",
   "metadata": {},
   "outputs": [],
   "source": [
    "predictions = reg.predict(test[predictors])"
   ]
  },
  {
   "cell_type": "code",
   "execution_count": null,
   "id": "d84bf201",
   "metadata": {},
   "outputs": [],
   "source": [
    "from sklearn.metrics import mean_absolute_error"
   ]
  },
  {
   "cell_type": "code",
   "execution_count": null,
   "id": "8259d49e",
   "metadata": {},
   "outputs": [],
   "source": [
    "mean_absolute_error(test[\"target\"], predictions)"
   ]
  },
  {
   "cell_type": "code",
   "execution_count": null,
   "id": "f46c6918",
   "metadata": {},
   "outputs": [],
   "source": [
    "combined = pd.concat([test[\"target\"], pd.Series(predictions, index=test.index)], axis=1)\n",
    "combined.columns = [\"actual\", \"predictions\"]"
   ]
  },
  {
   "cell_type": "code",
   "execution_count": null,
   "id": "db7063a9",
   "metadata": {},
   "outputs": [],
   "source": [
    "combined"
   ]
  },
  {
   "cell_type": "code",
   "execution_count": null,
   "id": "bb528f37",
   "metadata": {},
   "outputs": [],
   "source": [
    "combined.plot()"
   ]
  },
  {
   "cell_type": "code",
   "execution_count": null,
   "id": "4c4700ba",
   "metadata": {},
   "outputs": [],
   "source": [
    "reg.coef_"
   ]
  },
  {
   "cell_type": "code",
   "execution_count": null,
   "id": "31df7493",
   "metadata": {},
   "outputs": [],
   "source": [
    "def create_predictions(predictors, core_weather, reg):\n",
    "    train = core_weather.loc[:\"2022-12-31\"]\n",
    "    print(\"Line 49 predictors*********\", predictors)\n",
    "    print(\"train\",train)\n",
    "    test = core_weather.loc[\"2023-01-01\":]\n",
    "    print(\"test\",test)\n",
    "    reg.fit(train[predictors], train[\"target\"])\n",
    "    predictions = reg.predict(test[predictors])\n",
    "    print(\"predictions\",predictions)\n",
    "    error = mean_absolute_error(test[\"target\"], predictions)\n",
    "    combined = pd.concat([test[\"target\"], pd.Series(predictions, index=test.index)], axis=1)\n",
    "    print(\"combined\",combined)\n",
    "    combined.columns = [\"actual\", \"predictions\"]\n",
    "    return error, combined"
   ]
  },
  {
   "cell_type": "code",
   "execution_count": null,
   "id": "e87a412b",
   "metadata": {},
   "outputs": [],
   "source": [
    "import numpy as np\n",
    "\n",
    "# Check for NaNs\n",
    "nan_counts = core_weather[predictors].isna().sum()\n",
    "print(\"NaN counts in each predictor:\\n\", nan_counts)\n",
    "\n",
    "# Check for Infinite values\n",
    "inf_counts = np.isinf(core_weather[predictors]).sum()\n",
    "print(\"Infinite counts in each predictor:\\n\", inf_counts)\n",
    "\n",
    "# Identify rows containing NaN or Infinite values\n",
    "problematic_rows = core_weather[predictors][core_weather[predictors].isna().any(axis=1) | np.isinf(core_weather[predictors]).any(axis=1)]\n",
    "print(\"Rows with NaN or Infinite values:\\n\", problematic_rows)\n"
   ]
  },
  {
   "cell_type": "code",
   "execution_count": null,
   "id": "68e2ca0b",
   "metadata": {},
   "outputs": [],
   "source": [
    "# Drop rows with NaN or Infinite values\n",
    "core_weather_cleaned = core_weather.dropna().replace([np.inf, -np.inf], np.nan).dropna()\n",
    "# core_weather_cleaned =0\n",
    "print(\"core_weather_cleaned\", core_weather_cleaned)\n",
    "\n",
    "# Check again to ensure no NaNs or Infinities remain\n",
    "nan_counts_after = core_weather_cleaned[predictors].isna().sum()\n",
    "inf_counts_after = np.isinf(core_weather_cleaned[predictors]).sum()\n",
    "\n",
    "print(\"After cleaning, NaN counts:\\n\", nan_counts_after)\n",
    "print(\"After cleaning, Infinite counts:\\n\", inf_counts_after)\n"
   ]
  },
  {
   "cell_type": "code",
   "execution_count": null,
   "id": "da3efc84",
   "metadata": {},
   "outputs": [],
   "source": [
    "core_weather_cleaned[\"month_max\"] = core_weather_cleaned[\"temp_max\"].rolling(30).mean()"
   ]
  },
  {
   "cell_type": "code",
   "execution_count": null,
   "id": "2538530f",
   "metadata": {},
   "outputs": [],
   "source": [
    "core_weather_cleaned"
   ]
  },
  {
   "cell_type": "code",
   "execution_count": null,
   "id": "eb0de9d4",
   "metadata": {},
   "outputs": [],
   "source": [
    "core_weather_cleaned[\"month_day_max\"] = core_weather_cleaned[\"month_max\"] / core_weather_cleaned[\"temp_max\"]"
   ]
  },
  {
   "cell_type": "code",
   "execution_count": null,
   "id": "995c11ee",
   "metadata": {},
   "outputs": [],
   "source": [
    "core_weather[\"max_min\"] = core_weather[\"temp_max\"] /core_weather[\"temp_min\"]"
   ]
  },
  {
   "cell_type": "code",
   "execution_count": null,
   "id": "0a7b756e",
   "metadata": {},
   "outputs": [],
   "source": [
    "predictors = [\"precip\", \"temp_max\", \"temp_min\", \"month_max\", \"month_day_max\", \"max_min\"]"
   ]
  },
  {
   "cell_type": "code",
   "execution_count": null,
   "id": "a2be90e4",
   "metadata": {},
   "outputs": [],
   "source": [
    "core_weather_cleaned[\"month_max\"] = core_weather_cleaned[\"temp_max\"].rolling(30).mean()\n",
    "core_weather_cleaned[\"month_day_max\"] = core_weather_cleaned[\"month_max\"] / core_weather_cleaned[\"temp_max\"]\n",
    "core_weather_cleaned[\"max_min\"] = core_weather_cleaned[\"temp_max\"] / core_weather_cleaned[\"temp_min\"]"
   ]
  },
  {
   "cell_type": "code",
   "execution_count": null,
   "id": "0f6a2022",
   "metadata": {},
   "outputs": [],
   "source": [
    "core_weather_cleaned"
   ]
  },
  {
   "cell_type": "code",
   "execution_count": null,
   "id": "1fadbe48",
   "metadata": {},
   "outputs": [],
   "source": [
    "core_weather_cleaned = core_weather_cleaned.iloc[30:,:].copy()"
   ]
  },
  {
   "cell_type": "code",
   "execution_count": null,
   "id": "1ede0cc7",
   "metadata": {},
   "outputs": [],
   "source": [
    "error, combined = create_predictions(predictors, core_weather_cleaned, reg)\n",
    "print(f\"Mean Absolute Error: {error}\")"
   ]
  },
  {
   "cell_type": "code",
   "execution_count": null,
   "id": "5415d1b5",
   "metadata": {},
   "outputs": [],
   "source": [
    "error"
   ]
  },
  {
   "cell_type": "code",
   "execution_count": null,
   "id": "0dce40b2",
   "metadata": {},
   "outputs": [],
   "source": [
    "combined.plot()"
   ]
  },
  {
   "cell_type": "code",
   "execution_count": null,
   "id": "74bd1fb5",
   "metadata": {
    "scrolled": true
   },
   "outputs": [],
   "source": [
    "core_weather[\"monthly_avg\"] = core_weather[\"temp_max\"].groupby(core_weather.index.month, group_keys=False).apply(lambda x: x.expanding(1).mean())\n"
   ]
  },
  {
   "cell_type": "code",
   "execution_count": null,
   "id": "6dd2462d",
   "metadata": {},
   "outputs": [],
   "source": [
    "core_weather"
   ]
  },
  {
   "cell_type": "code",
   "execution_count": null,
   "id": "061e9835",
   "metadata": {
    "scrolled": true
   },
   "outputs": [],
   "source": [
    "core_weather[\"day_of_year_avg\"] =  core_weather[\"temp_max\"].groupby(core_weather.index.day_of_year, group_keys= False).apply(lambda x: x.expanding(1).mean())"
   ]
  },
  {
   "cell_type": "code",
   "execution_count": null,
   "id": "04ec772f",
   "metadata": {},
   "outputs": [],
   "source": [
    "predictors = [\"precip\", \"temp_max\", \"temp_min\",\"month_day_max\",\"max_min\", \"day_of_year_avg\", \"monthly_avg\"]"
   ]
  },
  {
   "cell_type": "code",
   "execution_count": null,
   "id": "3c2ca07d",
   "metadata": {},
   "outputs": [],
   "source": [
    "error, combined = create_predictions(predictors, core_weather, reg)"
   ]
  },
  {
   "cell_type": "code",
   "execution_count": null,
   "id": "4fd44d27",
   "metadata": {},
   "outputs": [],
   "source": [
    "error"
   ]
  },
  {
   "cell_type": "code",
   "execution_count": null,
   "id": "9385f745",
   "metadata": {},
   "outputs": [],
   "source": [
    "reg.coef_"
   ]
  },
  {
   "cell_type": "code",
   "execution_count": null,
   "id": "0294eb99",
   "metadata": {},
   "outputs": [],
   "source": [
    "core_weather.corr()[\"target\"]"
   ]
  },
  {
   "cell_type": "code",
   "execution_count": null,
   "id": "3a6f7f4e",
   "metadata": {},
   "outputs": [],
   "source": [
    "combined[\"diff\"] = (combined[\"actual\"] - combined[\"predictions\"]).abs()"
   ]
  },
  {
   "cell_type": "code",
   "execution_count": null,
   "id": "dee19868",
   "metadata": {},
   "outputs": [],
   "source": [
    "combined.sort_values(\"diff\", ascending = False).head()"
   ]
  }
 ],
 "metadata": {
  "kernelspec": {
   "display_name": "Python 3 (ipykernel)",
   "language": "python",
   "name": "python3"
  },
  "language_info": {
   "codemirror_mode": {
    "name": "ipython",
    "version": 3
   },
   "file_extension": ".py",
   "mimetype": "text/x-python",
   "name": "python",
   "nbconvert_exporter": "python",
   "pygments_lexer": "ipython3",
   "version": "3.11.3"
  }
 },
 "nbformat": 4,
 "nbformat_minor": 5
}
